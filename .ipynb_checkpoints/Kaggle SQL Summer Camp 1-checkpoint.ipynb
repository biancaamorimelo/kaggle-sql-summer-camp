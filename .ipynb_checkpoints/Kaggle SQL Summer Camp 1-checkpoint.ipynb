{
 "cells": [
  {
   "cell_type": "markdown",
   "metadata": {},
   "source": [
    "## SQL Summer Camp - Kaggle\n",
    "\n",
    "Participant: Bianca Amorim "
   ]
  },
  {
   "cell_type": "code",
   "execution_count": 1,
   "metadata": {},
   "outputs": [],
   "source": [
    "from google.cloud import bigquery"
   ]
  },
  {
   "cell_type": "code",
   "execution_count": 2,
   "metadata": {},
   "outputs": [],
   "source": [
    "import os\n",
    "os.environ[\"GOOGLE_APPLICATION_CREDENTIALS\"]=\"C:/Users/bianca.melo/Downloads/hidden-cosmos-240318-b5ec42d4c826.json\"\n",
    "\n",
    "#client = language.LanguageServiceClient.from_service_account_json(\"C:/Users/bianca.melo/Downloads/hidden-cosmos-240318-b5ec42d4c826.json\")"
   ]
  },
  {
   "cell_type": "code",
   "execution_count": 3,
   "metadata": {},
   "outputs": [],
   "source": [
    "# Cria um objeto \"Cliente\"\n",
    "client = bigquery.Client()"
   ]
  },
  {
   "cell_type": "code",
   "execution_count": 4,
   "metadata": {},
   "outputs": [],
   "source": [
    "# Construção de referência ao dataset \"hacker_news\"\n",
    "dataset_ref = client.dataset(\"hacker_news\", project=\"bigquery-public-data\")\n",
    "\n",
    "# API request - fetch the dataset\n",
    "dataset = client.get_dataset(dataset_ref)"
   ]
  },
  {
   "cell_type": "code",
   "execution_count": 5,
   "metadata": {},
   "outputs": [
    {
     "name": "stdout",
     "output_type": "stream",
     "text": [
      "comments\n",
      "full\n",
      "full_201510\n",
      "stories\n"
     ]
    }
   ],
   "source": [
    "# Lista todas as tabelas do dataset \"hacker_news\" \n",
    "tables = list(client.list_tables(dataset))\n",
    "\n",
    "# Printa os nomes de todas as tabelas no dataset\n",
    "for table in tables:  \n",
    "    print(table.table_id)\n",
    "\n"
   ]
  },
  {
   "cell_type": "code",
   "execution_count": 6,
   "metadata": {},
   "outputs": [],
   "source": [
    "# Constrói uma referência a tabela completa\n",
    "table_ref = dataset_ref.table(\"full\")\n",
    "\n",
    "# API request - fetch the table\n",
    "table = client.get_table(table_ref)"
   ]
  },
  {
   "cell_type": "markdown",
   "metadata": {},
   "source": [
    "Estrutura do que foi trabalhado até agora\n",
    "![title](img/biguery.png)"
   ]
  },
  {
   "cell_type": "code",
   "execution_count": 7,
   "metadata": {},
   "outputs": [
    {
     "data": {
      "text/plain": [
       "[SchemaField('by', 'STRING', 'NULLABLE', \"The username of the item's author.\", ()),\n",
       " SchemaField('score', 'INTEGER', 'NULLABLE', 'Story score', ()),\n",
       " SchemaField('time', 'INTEGER', 'NULLABLE', 'Unix time', ()),\n",
       " SchemaField('timestamp', 'TIMESTAMP', 'NULLABLE', 'Timestamp for the unix time', ()),\n",
       " SchemaField('title', 'STRING', 'NULLABLE', 'Story title', ()),\n",
       " SchemaField('type', 'STRING', 'NULLABLE', 'Type of details (comment, comment_ranking, poll, story, job, pollopt)', ()),\n",
       " SchemaField('url', 'STRING', 'NULLABLE', 'Story url', ()),\n",
       " SchemaField('text', 'STRING', 'NULLABLE', 'Story or comment text', ()),\n",
       " SchemaField('parent', 'INTEGER', 'NULLABLE', 'Parent comment ID', ()),\n",
       " SchemaField('deleted', 'BOOLEAN', 'NULLABLE', 'Is deleted?', ()),\n",
       " SchemaField('dead', 'BOOLEAN', 'NULLABLE', 'Is dead?', ()),\n",
       " SchemaField('descendants', 'INTEGER', 'NULLABLE', 'Number of story or poll descendants', ()),\n",
       " SchemaField('id', 'INTEGER', 'NULLABLE', \"The item's unique id.\", ()),\n",
       " SchemaField('ranking', 'INTEGER', 'NULLABLE', 'Comment ranking', ())]"
      ]
     },
     "execution_count": 7,
     "metadata": {},
     "output_type": "execute_result"
    }
   ],
   "source": [
    "#Printa informações das colunas na tabela \"full\" do dataset \"hacker_news\"\n",
    "table.schema\n",
    "\n",
    "#(NOME_DA_COLUNA, DATATYPE, MODO (Nullable -> NULL padrão), DESCRIÇÃO_DO_DADO_DA_COLUNA)"
   ]
  },
  {
   "cell_type": "code",
   "execution_count": 8,
   "metadata": {},
   "outputs": [
    {
     "data": {
      "text/html": [
       "<div>\n",
       "<style scoped>\n",
       "    .dataframe tbody tr th:only-of-type {\n",
       "        vertical-align: middle;\n",
       "    }\n",
       "\n",
       "    .dataframe tbody tr th {\n",
       "        vertical-align: top;\n",
       "    }\n",
       "\n",
       "    .dataframe thead th {\n",
       "        text-align: right;\n",
       "    }\n",
       "</style>\n",
       "<table border=\"1\" class=\"dataframe\">\n",
       "  <thead>\n",
       "    <tr style=\"text-align: right;\">\n",
       "      <th></th>\n",
       "      <th>by</th>\n",
       "      <th>score</th>\n",
       "      <th>time</th>\n",
       "      <th>timestamp</th>\n",
       "      <th>title</th>\n",
       "      <th>type</th>\n",
       "      <th>url</th>\n",
       "      <th>text</th>\n",
       "      <th>parent</th>\n",
       "      <th>deleted</th>\n",
       "      <th>dead</th>\n",
       "      <th>descendants</th>\n",
       "      <th>id</th>\n",
       "      <th>ranking</th>\n",
       "    </tr>\n",
       "  </thead>\n",
       "  <tbody>\n",
       "    <tr>\n",
       "      <th>0</th>\n",
       "      <td>wool_gather</td>\n",
       "      <td>NaN</td>\n",
       "      <td>1554052591</td>\n",
       "      <td>2019-03-31 17:16:31+00:00</td>\n",
       "      <td></td>\n",
       "      <td>comment</td>\n",
       "      <td></td>\n",
       "      <td>There&amp;#x27;s an amazing exposition of the whol...</td>\n",
       "      <td>19536464.0</td>\n",
       "      <td>None</td>\n",
       "      <td>None</td>\n",
       "      <td>NaN</td>\n",
       "      <td>19536772</td>\n",
       "      <td>None</td>\n",
       "    </tr>\n",
       "    <tr>\n",
       "      <th>1</th>\n",
       "      <td>sramana</td>\n",
       "      <td>1.0</td>\n",
       "      <td>1342125490</td>\n",
       "      <td>2012-07-12 20:38:10+00:00</td>\n",
       "      <td>Bootstrapping Zero to 7M from Kolkata: FusionC...</td>\n",
       "      <td>story</td>\n",
       "      <td>http://www.sramanamitra.com/2012/07/12/bootstr...</td>\n",
       "      <td></td>\n",
       "      <td>NaN</td>\n",
       "      <td>None</td>\n",
       "      <td>True</td>\n",
       "      <td>-1.0</td>\n",
       "      <td>4236646</td>\n",
       "      <td>None</td>\n",
       "    </tr>\n",
       "    <tr>\n",
       "      <th>2</th>\n",
       "      <td>sharmajai</td>\n",
       "      <td>NaN</td>\n",
       "      <td>1317225097</td>\n",
       "      <td>2011-09-28 15:51:37+00:00</td>\n",
       "      <td></td>\n",
       "      <td>comment</td>\n",
       "      <td></td>\n",
       "      <td>Your tablet can never be a replacement for you...</td>\n",
       "      <td>3048175.0</td>\n",
       "      <td>None</td>\n",
       "      <td>None</td>\n",
       "      <td>NaN</td>\n",
       "      <td>3048481</td>\n",
       "      <td>None</td>\n",
       "    </tr>\n",
       "    <tr>\n",
       "      <th>3</th>\n",
       "      <td>ShroudedNight</td>\n",
       "      <td>NaN</td>\n",
       "      <td>1536279396</td>\n",
       "      <td>2018-09-07 00:16:36+00:00</td>\n",
       "      <td></td>\n",
       "      <td>comment</td>\n",
       "      <td></td>\n",
       "      <td>&amp;gt; And perhaps the culprit is that INPLACE_A...</td>\n",
       "      <td>17923667.0</td>\n",
       "      <td>None</td>\n",
       "      <td>None</td>\n",
       "      <td>NaN</td>\n",
       "      <td>17930840</td>\n",
       "      <td>None</td>\n",
       "    </tr>\n",
       "    <tr>\n",
       "      <th>4</th>\n",
       "      <td>ForHackernews</td>\n",
       "      <td>NaN</td>\n",
       "      <td>1393426206</td>\n",
       "      <td>2014-02-26 14:50:06+00:00</td>\n",
       "      <td></td>\n",
       "      <td>comment</td>\n",
       "      <td></td>\n",
       "      <td>Not just average Joes. Lots of extremely wealt...</td>\n",
       "      <td>7303587.0</td>\n",
       "      <td>None</td>\n",
       "      <td>None</td>\n",
       "      <td>NaN</td>\n",
       "      <td>7305210</td>\n",
       "      <td>None</td>\n",
       "    </tr>\n",
       "  </tbody>\n",
       "</table>\n",
       "</div>"
      ],
      "text/plain": [
       "              by  score        time                 timestamp  \\\n",
       "0    wool_gather    NaN  1554052591 2019-03-31 17:16:31+00:00   \n",
       "1        sramana    1.0  1342125490 2012-07-12 20:38:10+00:00   \n",
       "2      sharmajai    NaN  1317225097 2011-09-28 15:51:37+00:00   \n",
       "3  ShroudedNight    NaN  1536279396 2018-09-07 00:16:36+00:00   \n",
       "4  ForHackernews    NaN  1393426206 2014-02-26 14:50:06+00:00   \n",
       "\n",
       "                                               title     type  \\\n",
       "0                                                     comment   \n",
       "1  Bootstrapping Zero to 7M from Kolkata: FusionC...    story   \n",
       "2                                                     comment   \n",
       "3                                                     comment   \n",
       "4                                                     comment   \n",
       "\n",
       "                                                 url  \\\n",
       "0                                                      \n",
       "1  http://www.sramanamitra.com/2012/07/12/bootstr...   \n",
       "2                                                      \n",
       "3                                                      \n",
       "4                                                      \n",
       "\n",
       "                                                text      parent deleted  \\\n",
       "0  There&#x27;s an amazing exposition of the whol...  19536464.0    None   \n",
       "1                                                            NaN    None   \n",
       "2  Your tablet can never be a replacement for you...   3048175.0    None   \n",
       "3  &gt; And perhaps the culprit is that INPLACE_A...  17923667.0    None   \n",
       "4  Not just average Joes. Lots of extremely wealt...   7303587.0    None   \n",
       "\n",
       "   dead  descendants        id ranking  \n",
       "0  None          NaN  19536772    None  \n",
       "1  True         -1.0   4236646    None  \n",
       "2  None          NaN   3048481    None  \n",
       "3  None          NaN  17930840    None  \n",
       "4  None          NaN   7305210    None  "
      ]
     },
     "execution_count": 8,
     "metadata": {},
     "output_type": "execute_result"
    }
   ],
   "source": [
    "# Visualização das 5 primeiras linhas da tabela \"full\"\n",
    "client.list_rows(table, max_results=5).to_dataframe()"
   ]
  }
 ],
 "metadata": {
  "kernelspec": {
   "display_name": "Python 3",
   "language": "python",
   "name": "python3"
  },
  "language_info": {
   "codemirror_mode": {
    "name": "ipython",
    "version": 3
   },
   "file_extension": ".py",
   "mimetype": "text/x-python",
   "name": "python",
   "nbconvert_exporter": "python",
   "pygments_lexer": "ipython3",
   "version": "3.7.3"
  }
 },
 "nbformat": 4,
 "nbformat_minor": 2
}
